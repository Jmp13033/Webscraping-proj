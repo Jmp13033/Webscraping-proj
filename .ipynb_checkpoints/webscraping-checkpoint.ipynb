{
 "cells": [
  {
   "cell_type": "markdown",
   "id": "abc6e2d5",
   "metadata": {},
   "source": [
    "# Top Repositories From Github"
   ]
  },
  {
   "cell_type": "code",
   "execution_count": 167,
   "id": "f21b466c",
   "metadata": {},
   "outputs": [],
   "source": [
    "import pandas as pd"
   ]
  },
  {
   "cell_type": "markdown",
   "id": "ff9e6de2",
   "metadata": {},
   "source": [
    "## Pick a website and describe your objective\n",
    "- Browse through different sites and pick on to scrape. Check the \"Project Ideas\" section for inspiration.\n",
    "- Identify the information you'd like to scrape from the site. Decide the format of the output CSV file.\n",
    "- Summarize your project idea and outline your strategy in a Juptyer notebook. Use the \"New\" button above."
   ]
  },
  {
   "cell_type": "markdown",
   "id": "809d0e32",
   "metadata": {},
   "source": [
    "## Use the requests library to download web pages\n",
    "\n",
    "- Inspect the website's HTML source and identify the right URLs to download.\n",
    "- Download and save web pages locally using the requests library.\n",
    "- Create a function to automate downloading for different topics/search queries."
   ]
  },
  {
   "cell_type": "code",
   "execution_count": 174,
   "id": "579ef20b",
   "metadata": {},
   "outputs": [],
   "source": [
    "import requests"
   ]
  },
  {
   "cell_type": "code",
   "execution_count": 175,
   "id": "f72e0a96",
   "metadata": {},
   "outputs": [],
   "source": [
    "topic_url = \"https://github.com/topics\""
   ]
  },
  {
   "cell_type": "code",
   "execution_count": 176,
   "id": "51e0bf2e",
   "metadata": {},
   "outputs": [],
   "source": [
    "response = requests.get(topic_url)"
   ]
  },
  {
   "cell_type": "code",
   "execution_count": 177,
   "id": "00a7067e",
   "metadata": {},
   "outputs": [
    {
     "data": {
      "text/plain": [
       "200"
      ]
     },
     "execution_count": 177,
     "metadata": {},
     "output_type": "execute_result"
    }
   ],
   "source": [
    "response.status_code"
   ]
  },
  {
   "cell_type": "code",
   "execution_count": 179,
   "id": "8e4c3bf5",
   "metadata": {},
   "outputs": [
    {
     "data": {
      "text/plain": [
       "144363"
      ]
     },
     "execution_count": 179,
     "metadata": {},
     "output_type": "execute_result"
    }
   ],
   "source": [
    "len(response.text)"
   ]
  },
  {
   "cell_type": "code",
   "execution_count": 181,
   "id": "37d7ee5c",
   "metadata": {},
   "outputs": [],
   "source": [
    "page_contents = response.text "
   ]
  },
  {
   "cell_type": "code",
   "execution_count": 184,
   "id": "152c714d",
   "metadata": {},
   "outputs": [
    {
     "data": {
      "text/plain": [
       "'\\n\\n<!DOCTYPE html>\\n<html lang=\"en\" data-color-mode=\"auto\" data-light-theme=\"light\" data-dark-theme=\"dark\" data-a11y-animated-images=\"system\">\\n  <head>\\n    <meta charset=\"utf-8\">\\n  <link rel=\"dns-prefetch\" href=\"https://github.githubassets.com\">\\n  <link rel=\"dns-prefetch\" href=\"https://avatars.githubusercontent.com\">\\n  <link rel=\"dns-prefetch\" href=\"https://github-cloud.s3.amazonaws.com\">\\n  <link rel=\"dns-prefetch\" href=\"https://user-images.githubusercontent.com/\">\\n  <link rel=\"preconnect\" href=\"https://github.githubassets.com\" crossorigin>\\n  <link rel=\"preconnect\" href=\"https://avatars.githubusercontent.com\">\\n\\n\\n\\n  <link crossorigin=\"anonymous\" media=\"all\" integrity=\"sha512-UXiu4O52iBFkqt6Kx5t+pqHYP2/LWWIw9+l5ia74TWw+xPzpH44BFfAQp7yzCe0XFGZa72Xiqyml6tox1KkUjw==\" rel=\"stylesheet\" href=\"https://github.githubassets.com/assets/light-5178aee0ee76.css\" /><link crossorigin=\"anonymous\" media=\"all\" integrity=\"sha512-IX1PnI5wWBz8Kgb1JI0f2QFa/WuRQQHJHe0vkKinQzsxRlNb4b8NgODX5htSZVAAkA1O6Vch+RRlDTI8j'"
      ]
     },
     "execution_count": 184,
     "metadata": {},
     "output_type": "execute_result"
    }
   ],
   "source": [
    "page_contents[:1000]"
   ]
  },
  {
   "cell_type": "code",
   "execution_count": 183,
   "id": "36890984",
   "metadata": {},
   "outputs": [],
   "source": [
    "with open (\"webpage.html\", \"w\") as f:\n",
    "    f.write(page_contents)"
   ]
  },
  {
   "cell_type": "code",
   "execution_count": null,
   "id": "b8f83cf6",
   "metadata": {},
   "outputs": [],
   "source": []
  },
  {
   "cell_type": "markdown",
   "id": "c09d4333",
   "metadata": {},
   "source": [
    "## Use Beautiful Soup to parse and extract information\n",
    "\n",
    "- Parse and explore the structure of downloaded web pages using Beautiful soup.\n",
    "- Use the right properties and methods to extract the required information.\n",
    "- Create functions to extract from the page into lists and dictionaries.\n",
    "- (Optional) Use a REST API to acquire additional information if required."
   ]
  },
  {
   "cell_type": "code",
   "execution_count": 185,
   "id": "24a446d1",
   "metadata": {},
   "outputs": [],
   "source": [
    "from bs4 import BeautifulSoup"
   ]
  },
  {
   "cell_type": "code",
   "execution_count": 189,
   "id": "0014a0c0",
   "metadata": {},
   "outputs": [],
   "source": [
    "doc = BeautifulSoup(page_contents, \"html.parser\")"
   ]
  },
  {
   "cell_type": "code",
   "execution_count": null,
   "id": "7b7c23fb",
   "metadata": {},
   "outputs": [],
   "source": []
  },
  {
   "cell_type": "markdown",
   "id": "539c4997",
   "metadata": {},
   "source": [
    "topic title P_Tags"
   ]
  },
  {
   "cell_type": "code",
   "execution_count": 217,
   "id": "03002c82",
   "metadata": {},
   "outputs": [],
   "source": [
    "selection_class = \"f3 lh-condensed mb-0 mt-1 Link--primary\"\n",
    "topic_title_tags = doc.find_all(\"p\",  {\"class\": selection_class})"
   ]
  },
  {
   "cell_type": "code",
   "execution_count": 250,
   "id": "c29612e3",
   "metadata": {},
   "outputs": [
    {
     "data": {
      "text/plain": [
       "30"
      ]
     },
     "execution_count": 250,
     "metadata": {},
     "output_type": "execute_result"
    }
   ],
   "source": [
    "len(topic_title_tags)"
   ]
  },
  {
   "cell_type": "markdown",
   "id": "4d0e01ad",
   "metadata": {},
   "source": [
    "Topic Title List "
   ]
  },
  {
   "cell_type": "code",
   "execution_count": 251,
   "id": "020efa57",
   "metadata": {},
   "outputs": [
    {
     "name": "stdout",
     "output_type": "stream",
     "text": [
      "['3D', 'Ajax', 'Algorithm', 'Amp', 'Android', 'Angular', 'Ansible', 'API', 'Arduino', 'ASP.NET', 'Atom', 'Awesome Lists', 'Amazon Web Services', 'Azure', 'Babel', 'Bash', 'Bitcoin', 'Bootstrap', 'Bot', 'C', 'Chrome', 'Chrome extension', 'Command line interface', 'Clojure', 'Code quality', 'Code review', 'Compiler', 'Continuous integration', 'COVID-19', 'C++']\n"
     ]
    }
   ],
   "source": [
    "topic_titles= []\n",
    "\n",
    "for topic in topic_title_p_tags:\n",
    "    topic_titles.append(topic.text)\n",
    "\n",
    "print(topic_titles)"
   ]
  },
  {
   "cell_type": "markdown",
   "id": "9d1152c1",
   "metadata": {},
   "source": [
    "Description tags"
   ]
  },
  {
   "cell_type": "code",
   "execution_count": 270,
   "id": "e2db3d13",
   "metadata": {},
   "outputs": [],
   "source": [
    "decription_tags = \"f5 color-fg-muted mb-0 mt-1\"  \n",
    "description_topic_tags = doc.find_all(\"p\",  {\"class\": decription_tags})\n",
    "\n"
   ]
  },
  {
   "cell_type": "markdown",
   "id": "ec46fbf8",
   "metadata": {},
   "source": [
    "Description List"
   ]
  },
  {
   "cell_type": "code",
   "execution_count": 271,
   "id": "52870c34",
   "metadata": {},
   "outputs": [
    {
     "name": "stdout",
     "output_type": "stream",
     "text": [
      "['3D modeling is the process of virtually developing the surface and structure of a 3D object.', 'Ajax is a technique for creating interactive web applications.', 'Algorithms are self-contained sequences that carry out a variety of tasks.', 'Amp is a non-blocking concurrency library for PHP.', 'Android is an operating system built by Google designed for mobile devices.']\n"
     ]
    }
   ],
   "source": [
    "description = []\n",
    "for topic in description_topic_tags :\n",
    "    description.append(topic.text.strip())\n",
    "\n",
    "print(description[:5])\n",
    " "
   ]
  },
  {
   "cell_type": "code",
   "execution_count": 272,
   "id": "17026ec4",
   "metadata": {},
   "outputs": [],
   "source": [
    "topic_title_tags0 = topic_title_p_tags[0]"
   ]
  },
  {
   "cell_type": "markdown",
   "id": "add0bffd",
   "metadata": {},
   "source": [
    "End Url "
   ]
  },
  {
   "cell_type": "code",
   "execution_count": 273,
   "id": "4940475c",
   "metadata": {},
   "outputs": [],
   "source": [
    "end_url = topic_title_tags0.parent[\"href\"]"
   ]
  },
  {
   "cell_type": "markdown",
   "id": "4180bf99",
   "metadata": {},
   "source": [
    "url"
   ]
  },
  {
   "cell_type": "code",
   "execution_count": 274,
   "id": "63696d0b",
   "metadata": {},
   "outputs": [
    {
     "name": "stdout",
     "output_type": "stream",
     "text": [
      "https://github.com/topics/3d\n"
     ]
    }
   ],
   "source": [
    "topic_url =\"https://github.com\" + end_url\n",
    "print(topic_url)"
   ]
  },
  {
   "cell_type": "code",
   "execution_count": 275,
   "id": "75f8405e",
   "metadata": {},
   "outputs": [],
   "source": [
    "topic_link_tags = doc.find_all(\"a\", {\"class\": \"no-underline flex-grow-0\"})"
   ]
  },
  {
   "cell_type": "markdown",
   "id": "95e2be9a",
   "metadata": {},
   "source": [
    " topic_link_tag_list_Url"
   ]
  },
  {
   "cell_type": "code",
   "execution_count": 276,
   "id": "f9870db3",
   "metadata": {},
   "outputs": [
    {
     "name": "stdout",
     "output_type": "stream",
     "text": [
      "['https://github.com/topics/3d', 'https://github.com/topics/ajax', 'https://github.com/topics/algorithm', 'https://github.com/topics/amphp', 'https://github.com/topics/android', 'https://github.com/topics/angular', 'https://github.com/topics/ansible', 'https://github.com/topics/api', 'https://github.com/topics/arduino', 'https://github.com/topics/aspnet', 'https://github.com/topics/atom', 'https://github.com/topics/awesome', 'https://github.com/topics/aws', 'https://github.com/topics/azure', 'https://github.com/topics/babel', 'https://github.com/topics/bash', 'https://github.com/topics/bitcoin', 'https://github.com/topics/bootstrap', 'https://github.com/topics/bot', 'https://github.com/topics/c', 'https://github.com/topics/chrome', 'https://github.com/topics/chrome-extension', 'https://github.com/topics/cli', 'https://github.com/topics/clojure', 'https://github.com/topics/code-quality', 'https://github.com/topics/code-review', 'https://github.com/topics/compiler', 'https://github.com/topics/continuous-integration', 'https://github.com/topics/covid-19', 'https://github.com/topics/cpp']\n"
     ]
    }
   ],
   "source": [
    "topic_link_tag_list = []\n",
    "base_url = \"https://github.com\"\n",
    "for topic_link in topic_link_tags:\n",
    "    topic_link_tag_list.append( base_url + topic_link[\"href\"])\n",
    "\n",
    "print(topic_link_tag_list)\n",
    "    \n",
    "    "
   ]
  },
  {
   "cell_type": "code",
   "execution_count": 280,
   "id": "4cb6b476",
   "metadata": {},
   "outputs": [],
   "source": [
    "topic_dict = {\n",
    "    \"titles\": topic_titles,\n",
    "    \"description\": description,\n",
    "    \"link_tags\": topic_link_tag_list\n",
    "}\n"
   ]
  },
  {
   "cell_type": "markdown",
   "id": "c5bb6b86",
   "metadata": {},
   "source": [
    "## Create CSV file(s) with the extracted information\n",
    "\n",
    "- Create functions for the end-to-end process of downloading, parsing, and saving CSVs.\n",
    "- Execute the function with different inputs to create a dataset of CSV files.\n",
    "- Verify the information in the CSV files by reading them back using Pandas."
   ]
  },
  {
   "cell_type": "code",
   "execution_count": 281,
   "id": "45faf0b0",
   "metadata": {},
   "outputs": [],
   "source": [
    "topics_df = pd.DataFrame(topic_dict)"
   ]
  },
  {
   "cell_type": "code",
   "execution_count": 282,
   "id": "e6f469f1",
   "metadata": {},
   "outputs": [],
   "source": [
    "topics_df.to_csv(\"topic\", index = None)"
   ]
  },
  {
   "cell_type": "markdown",
   "id": "7992b368",
   "metadata": {},
   "source": [
    "## getting a description out of a title page"
   ]
  },
  {
   "cell_type": "code",
   "execution_count": 283,
   "id": "90c0283c",
   "metadata": {},
   "outputs": [],
   "source": [
    "topic_page_url =topic_link_tag_list[0]"
   ]
  },
  {
   "cell_type": "code",
   "execution_count": 289,
   "id": "8849a501",
   "metadata": {},
   "outputs": [
    {
     "data": {
      "text/plain": [
       "'https://github.com/topics/3d'"
      ]
     },
     "execution_count": 289,
     "metadata": {},
     "output_type": "execute_result"
    }
   ],
   "source": [
    "topic_page_url"
   ]
  },
  {
   "cell_type": "code",
   "execution_count": 290,
   "id": "4969568c",
   "metadata": {},
   "outputs": [],
   "source": [
    "response = requests.get(topic_page_url)"
   ]
  },
  {
   "cell_type": "code",
   "execution_count": 291,
   "id": "54a33624",
   "metadata": {},
   "outputs": [
    {
     "data": {
      "text/plain": [
       "200"
      ]
     },
     "execution_count": 291,
     "metadata": {},
     "output_type": "execute_result"
    }
   ],
   "source": [
    "response.status_code"
   ]
  },
  {
   "cell_type": "code",
   "execution_count": 292,
   "id": "e153136c",
   "metadata": {},
   "outputs": [
    {
     "data": {
      "text/plain": [
       "649599"
      ]
     },
     "execution_count": 292,
     "metadata": {},
     "output_type": "execute_result"
    }
   ],
   "source": [
    "len(response.text)"
   ]
  },
  {
   "cell_type": "code",
   "execution_count": 294,
   "id": "aad0fd7b",
   "metadata": {},
   "outputs": [],
   "source": [
    "topic_doc = BeautifulSoup(response.text, \"html.parser\")"
   ]
  },
  {
   "cell_type": "markdown",
   "id": "5bf85ea7",
   "metadata": {},
   "source": [
    "H3 Headers in the document "
   ]
  },
  {
   "cell_type": "code",
   "execution_count": 301,
   "id": "6081dfe2",
   "metadata": {},
   "outputs": [],
   "source": [
    " repo_tags = topic_dot.find_all(\"h3\", {\"class\":\"f3 color-fg-muted text-normal lh-condensed\"})\n"
   ]
  },
  {
   "cell_type": "markdown",
   "id": "9f1b222b",
   "metadata": {},
   "source": [
    "A Tags in doc2 "
   ]
  },
  {
   "cell_type": "code",
   "execution_count": 302,
   "id": "7a11f972",
   "metadata": {},
   "outputs": [],
   "source": [
    "a_tags = repo_tags[0].find_all(\"a\")"
   ]
  },
  {
   "cell_type": "code",
   "execution_count": 303,
   "id": "2be5c734",
   "metadata": {},
   "outputs": [
    {
     "data": {
      "text/plain": [
       "[<a data-ga-click=\"Explore, go to repository owner, location:explore feed\" data-hydro-click='{\"event_type\":\"explore.click\",\"payload\":{\"click_context\":\"REPOSITORY_CARD\",\"click_target\":\"OWNER\",\"click_visual_representation\":\"REPOSITORY_OWNER_HEADING\",\"actor_id\":null,\"record_id\":97088,\"originating_url\":\"https://github.com/topics/3d\",\"user_id\":null}}' data-hydro-click-hmac=\"4bdbc49d3c05ae7f70b531fbce709a384200b0768554e0172950286a8db30940\" data-turbo=\"false\" data-view-component=\"true\" href=\"/mrdoob\">\n",
       "             mrdoob\n",
       " </a>,\n",
       " <a class=\"text-bold wb-break-word\" data-ga-click=\"Explore, go to repository, location:explore feed\" data-hydro-click='{\"event_type\":\"explore.click\",\"payload\":{\"click_context\":\"REPOSITORY_CARD\",\"click_target\":\"REPOSITORY\",\"click_visual_representation\":\"REPOSITORY_NAME_HEADING\",\"actor_id\":null,\"record_id\":576201,\"originating_url\":\"https://github.com/topics/3d\",\"user_id\":null}}' data-hydro-click-hmac=\"517d3d5cb9d89752156923904a4238816bc9b51ab7772f3e3644ce897d8dd4e5\" data-turbo=\"false\" data-view-component=\"true\" href=\"/mrdoob/three.js\">\n",
       "             three.js\n",
       " </a>]"
      ]
     },
     "execution_count": 303,
     "metadata": {},
     "output_type": "execute_result"
    }
   ],
   "source": [
    "a_tags"
   ]
  },
  {
   "cell_type": "markdown",
   "id": "874c3c84",
   "metadata": {},
   "source": [
    "Href text"
   ]
  },
  {
   "cell_type": "code",
   "execution_count": 308,
   "id": "f7e56d7f",
   "metadata": {},
   "outputs": [
    {
     "data": {
      "text/plain": [
       "'mrdoob'"
      ]
     },
     "execution_count": 308,
     "metadata": {},
     "output_type": "execute_result"
    }
   ],
   "source": [
    "a_tags[0].text.strip()"
   ]
  },
  {
   "cell_type": "code",
   "execution_count": 265,
   "id": "fc55637d",
   "metadata": {},
   "outputs": [
    {
     "data": {
      "text/plain": [
       "'three.js'"
      ]
     },
     "execution_count": 265,
     "metadata": {},
     "output_type": "execute_result"
    }
   ],
   "source": [
    "a_tags[1].text.strip()"
   ]
  },
  {
   "cell_type": "markdown",
   "id": "ee730c15",
   "metadata": {},
   "source": [
    "Topic page Url "
   ]
  },
  {
   "cell_type": "code",
   "execution_count": 309,
   "id": "65b782d8",
   "metadata": {},
   "outputs": [
    {
     "name": "stdout",
     "output_type": "stream",
     "text": [
      "https://github.com/mrdoob/three.js\n"
     ]
    }
   ],
   "source": [
    "baseurl = \"https://github.com\"\n",
    "url = baseurl + a_tags[1][\"href\"]\n",
    "print(url)"
   ]
  },
  {
   "cell_type": "markdown",
   "id": "3b51cf21",
   "metadata": {},
   "source": [
    "# Star Tags"
   ]
  },
  {
   "cell_type": "code",
   "execution_count": 313,
   "id": "57f8cb8c",
   "metadata": {},
   "outputs": [],
   "source": [
    "star_tags = topic_doc.find_all(\"span\", {\"class\":\"Counter js-social-count\"} )"
   ]
  },
  {
   "cell_type": "code",
   "execution_count": 314,
   "id": "09ec6bf3",
   "metadata": {},
   "outputs": [
    {
     "data": {
      "text/plain": [
       "30"
      ]
     },
     "execution_count": 314,
     "metadata": {},
     "output_type": "execute_result"
    }
   ],
   "source": [
    "len(star_tags)"
   ]
  },
  {
   "cell_type": "code",
   "execution_count": 315,
   "id": "e4808891",
   "metadata": {},
   "outputs": [
    {
     "data": {
      "text/plain": [
       "'20.3k'"
      ]
     },
     "execution_count": 315,
     "metadata": {},
     "output_type": "execute_result"
    }
   ],
   "source": [
    "star_tags[1].text"
   ]
  },
  {
   "cell_type": "code",
   "execution_count": null,
   "id": "4f5f1505",
   "metadata": {},
   "outputs": [],
   "source": []
  },
  {
   "cell_type": "markdown",
   "id": "282f50de",
   "metadata": {},
   "source": [
    "stars to number function"
   ]
  },
  {
   "cell_type": "code",
   "execution_count": 135,
   "id": "a05e1606",
   "metadata": {},
   "outputs": [],
   "source": [
    "def parser(stars):\n",
    "    stars = stars.strip()\n",
    "    if stars[-1] == \"k\":\n",
    "        return int(float(stars[:-1]) * 1000)"
   ]
  },
  {
   "cell_type": "code",
   "execution_count": 316,
   "id": "5019dbad",
   "metadata": {},
   "outputs": [
    {
     "data": {
      "text/plain": [
       "84000"
      ]
     },
     "execution_count": 316,
     "metadata": {},
     "output_type": "execute_result"
    }
   ],
   "source": [
    "parser(star_tags[0].text)"
   ]
  },
  {
   "cell_type": "markdown",
   "id": "7b2f233a",
   "metadata": {},
   "source": []
  },
  {
   "cell_type": "code",
   "execution_count": 317,
   "id": "be7644d7",
   "metadata": {},
   "outputs": [],
   "source": [
    "def repo_info(h3_tags, stars_tag):\n",
    "    a_tags = h3_tags.find_all(\"a\")\n",
    "    username = a_tags[0].text.strip()\n",
    "    repo_name = a_tags[1].text.strip()\n",
    "    repo_url = baseurl + a_tags[1][\"href\"]\n",
    "    stars = parser(stars_tag.text.strip())\n",
    "    \n",
    "    return username, repo_name, stars, repo_url \n",
    "\n",
    "    \n",
    "    "
   ]
  },
  {
   "cell_type": "code",
   "execution_count": 322,
   "id": "87c05407",
   "metadata": {},
   "outputs": [
    {
     "data": {
      "text/plain": [
       "('mrdoob', 'three.js', 84000, 'https://github.com/mrdoob/three.js')"
      ]
     },
     "execution_count": 322,
     "metadata": {},
     "output_type": "execute_result"
    }
   ],
   "source": [
    "repo_info(repo_tags[0], star_tags[0])"
   ]
  },
  {
   "cell_type": "code",
   "execution_count": 319,
   "id": "ddbc9160",
   "metadata": {},
   "outputs": [],
   "source": [
    "list_dictionary = {\n",
    "    \"username\": [], \n",
    "    \"repo_name\":[] ,\n",
    "    \"stars\": [],\n",
    "    \"repo_url\":[], \n",
    "    \n",
    "    \n",
    "}\n",
    "for i in range(len(repo_tags)):\n",
    "    repo = repo_info(repo_tags[i], star_tags[i])\n",
    "    list_dictionary[\"username\"].append(repo[0])\n",
    "    list_dictionary[\"repo_name\"].append(repo[1])\n",
    "    list_dictionary[\"stars\"].append(repo[2])\n",
    "    list_dictionary[\"repo_url\"].append(repo[3])\n",
    "\n",
    "    "
   ]
  },
  {
   "cell_type": "code",
   "execution_count": 328,
   "id": "e42702e5",
   "metadata": {},
   "outputs": [
    {
     "data": {
      "text/plain": [
       "{'username': ['mrdoob',\n",
       "  'libgdx',\n",
       "  'pmndrs',\n",
       "  'BabylonJS',\n",
       "  'aframevr',\n",
       "  'ssloy',\n",
       "  'lettier',\n",
       "  'FreeCAD',\n",
       "  'metafizzy',\n",
       "  'CesiumGS',\n",
       "  'timzhang642',\n",
       "  'a1studmuffin',\n",
       "  'isl-org',\n",
       "  'blender',\n",
       "  'domlysz',\n",
       "  'spritejs',\n",
       "  'openscad',\n",
       "  'tensorspace-team',\n",
       "  'jagenjo',\n",
       "  'YadiraF',\n",
       "  'google',\n",
       "  'AaronJackson',\n",
       "  'ssloy',\n",
       "  'FyroxEngine',\n",
       "  'mosra',\n",
       "  'tengbao',\n",
       "  'gfxfundamentals',\n",
       "  'cleardusk',\n",
       "  'jasonlong',\n",
       "  'cnr-isti-vclab'],\n",
       " 'repo_name': ['three.js',\n",
       "  'libgdx',\n",
       "  'react-three-fiber',\n",
       "  'Babylon.js',\n",
       "  'aframe',\n",
       "  'tinyrenderer',\n",
       "  '3d-game-shaders-for-beginners',\n",
       "  'FreeCAD',\n",
       "  'zdog',\n",
       "  'cesium',\n",
       "  '3D-Machine-Learning',\n",
       "  'SpaceshipGenerator',\n",
       "  'Open3D',\n",
       "  'blender',\n",
       "  'BlenderGIS',\n",
       "  'spritejs',\n",
       "  'openscad',\n",
       "  'tensorspace',\n",
       "  'webglstudio.js',\n",
       "  'PRNet',\n",
       "  'model-viewer',\n",
       "  'vrn',\n",
       "  'tinyraytracer',\n",
       "  'Fyrox',\n",
       "  'magnum',\n",
       "  'vanta',\n",
       "  'webgl-fundamentals',\n",
       "  '3DDFA',\n",
       "  'isometric-contributions',\n",
       "  'meshlab'],\n",
       " 'stars': [84000,\n",
       "  20300,\n",
       "  18900,\n",
       "  18000,\n",
       "  14400,\n",
       "  14300,\n",
       "  13400,\n",
       "  11800,\n",
       "  9200,\n",
       "  9000,\n",
       "  8100,\n",
       "  7200,\n",
       "  7200,\n",
       "  6200,\n",
       "  5500,\n",
       "  4900,\n",
       "  4900,\n",
       "  4700,\n",
       "  4700,\n",
       "  4700,\n",
       "  4600,\n",
       "  4400,\n",
       "  4200,\n",
       "  4200,\n",
       "  4100,\n",
       "  3900,\n",
       "  3700,\n",
       "  3300,\n",
       "  3200,\n",
       "  3100],\n",
       " 'repo_url': ['https://github.com/mrdoob/three.js',\n",
       "  'https://github.com/libgdx/libgdx',\n",
       "  'https://github.com/pmndrs/react-three-fiber',\n",
       "  'https://github.com/BabylonJS/Babylon.js',\n",
       "  'https://github.com/aframevr/aframe',\n",
       "  'https://github.com/ssloy/tinyrenderer',\n",
       "  'https://github.com/lettier/3d-game-shaders-for-beginners',\n",
       "  'https://github.com/FreeCAD/FreeCAD',\n",
       "  'https://github.com/metafizzy/zdog',\n",
       "  'https://github.com/CesiumGS/cesium',\n",
       "  'https://github.com/timzhang642/3D-Machine-Learning',\n",
       "  'https://github.com/a1studmuffin/SpaceshipGenerator',\n",
       "  'https://github.com/isl-org/Open3D',\n",
       "  'https://github.com/blender/blender',\n",
       "  'https://github.com/domlysz/BlenderGIS',\n",
       "  'https://github.com/spritejs/spritejs',\n",
       "  'https://github.com/openscad/openscad',\n",
       "  'https://github.com/tensorspace-team/tensorspace',\n",
       "  'https://github.com/jagenjo/webglstudio.js',\n",
       "  'https://github.com/YadiraF/PRNet',\n",
       "  'https://github.com/google/model-viewer',\n",
       "  'https://github.com/AaronJackson/vrn',\n",
       "  'https://github.com/ssloy/tinyraytracer',\n",
       "  'https://github.com/FyroxEngine/Fyrox',\n",
       "  'https://github.com/mosra/magnum',\n",
       "  'https://github.com/tengbao/vanta',\n",
       "  'https://github.com/gfxfundamentals/webgl-fundamentals',\n",
       "  'https://github.com/cleardusk/3DDFA',\n",
       "  'https://github.com/jasonlong/isometric-contributions',\n",
       "  'https://github.com/cnr-isti-vclab/meshlab']}"
      ]
     },
     "execution_count": 328,
     "metadata": {},
     "output_type": "execute_result"
    }
   ],
   "source": [
    "list_dictionary"
   ]
  },
  {
   "cell_type": "code",
   "execution_count": 327,
   "id": "3f406c35",
   "metadata": {},
   "outputs": [],
   "source": [
    "topic_repo_df = pd.DataFrame(list_dictionary)"
   ]
  },
  {
   "cell_type": "code",
   "execution_count": 331,
   "id": "dcdd671c",
   "metadata": {},
   "outputs": [],
   "source": [
    "def repo_data(topic_url):\n",
    "    response = requests.get(topic_url)\n",
    "    if response.status_code != 200:\n",
    "        raise Exception(\"Error\")\n",
    "    topic_url = BeautifulSoup(response.text, \"html.parser\")\n",
    "    repo_tags = topic_dot.find_all(\"h3\", {\"class\":\"f3 color-fg-muted text-normal lh-condensed\"})\n",
    "    star_tags = topic_doc.find_all(\"span\", {\"class\":\"Counter js-social-count\"} )\n",
    "    \n",
    "    for i in range(len(repo_tags)):\n",
    "        repo = repo_info(repo_tags[i], star_tags[i])\n",
    "        list_dictionary[\"username\"].append(repo[0])\n",
    "        list_dictionary[\"repo_name\"].append(repo[1])\n",
    "        list_dictionary[\"stars\"].append(repo[2])\n",
    "        list_dictionary[\"repo_url\"].append(repo[3])\n"
   ]
  },
  {
   "cell_type": "code",
   "execution_count": null,
   "id": "7c44b0b4",
   "metadata": {},
   "outputs": [],
   "source": []
  },
  {
   "cell_type": "code",
   "execution_count": null,
   "id": "e63624d8",
   "metadata": {},
   "outputs": [],
   "source": []
  },
  {
   "cell_type": "code",
   "execution_count": null,
   "id": "483aed0b",
   "metadata": {},
   "outputs": [],
   "source": []
  },
  {
   "cell_type": "code",
   "execution_count": null,
   "id": "e394ebb4",
   "metadata": {},
   "outputs": [],
   "source": []
  },
  {
   "cell_type": "code",
   "execution_count": null,
   "id": "38d77d7d",
   "metadata": {},
   "outputs": [],
   "source": []
  }
 ],
 "metadata": {
  "kernelspec": {
   "display_name": "Python 3 (ipykernel)",
   "language": "python",
   "name": "python3"
  },
  "language_info": {
   "codemirror_mode": {
    "name": "ipython",
    "version": 3
   },
   "file_extension": ".py",
   "mimetype": "text/x-python",
   "name": "python",
   "nbconvert_exporter": "python",
   "pygments_lexer": "ipython3",
   "version": "3.9.12"
  }
 },
 "nbformat": 4,
 "nbformat_minor": 5
}
